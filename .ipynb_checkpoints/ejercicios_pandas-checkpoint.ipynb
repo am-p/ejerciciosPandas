{
 "cells": [
  {
   "cell_type": "markdown",
   "metadata": {},
   "source": [
    "### Guia practica pandas"
   ]
  },
  {
   "cell_type": "markdown",
   "metadata": {},
   "source": [
    "#### Ejercicio\n",
    "\n",
    "Se requiere crear un DataFrame desde 0 con tres columnas (a partir de tres listas de n cantidades iguales)"
   ]
  },
  {
   "cell_type": "code",
   "execution_count": 2,
   "metadata": {},
   "outputs": [
    {
     "data": {
      "text/html": [
       "<div>\n",
       "<style scoped>\n",
       "    .dataframe tbody tr th:only-of-type {\n",
       "        vertical-align: middle;\n",
       "    }\n",
       "\n",
       "    .dataframe tbody tr th {\n",
       "        vertical-align: top;\n",
       "    }\n",
       "\n",
       "    .dataframe thead th {\n",
       "        text-align: right;\n",
       "    }\n",
       "</style>\n",
       "<table border=\"1\" class=\"dataframe\">\n",
       "  <thead>\n",
       "    <tr style=\"text-align: right;\">\n",
       "      <th></th>\n",
       "      <th>Descripcion</th>\n",
       "      <th>Monto</th>\n",
       "    </tr>\n",
       "  </thead>\n",
       "  <tbody>\n",
       "    <tr>\n",
       "      <td>0</td>\n",
       "      <td>Comida</td>\n",
       "      <td>200</td>\n",
       "    </tr>\n",
       "    <tr>\n",
       "      <td>1</td>\n",
       "      <td>Luz</td>\n",
       "      <td>500</td>\n",
       "    </tr>\n",
       "    <tr>\n",
       "      <td>2</td>\n",
       "      <td>Telecentro</td>\n",
       "      <td>3000</td>\n",
       "    </tr>\n",
       "  </tbody>\n",
       "</table>\n",
       "</div>"
      ],
      "text/plain": [
       "  Descripcion  Monto\n",
       "0      Comida    200\n",
       "1         Luz    500\n",
       "2  Telecentro   3000"
      ]
     },
     "execution_count": 2,
     "metadata": {},
     "output_type": "execute_result"
    }
   ],
   "source": [
    "import pandas\n",
    "\n",
    "lista1=[\"Comida\",200]\n",
    "lista2=[\"Luz\",500]\n",
    "lista3=[\"Telecentro\",3000]\n",
    "\n",
    "gastos=pandas.DataFrame((lista1,lista2,lista3),columns=[\"Descripcion\",\"Monto\"])\n",
    "gastos\n"
   ]
  },
  {
   "cell_type": "code",
   "execution_count": null,
   "metadata": {},
   "outputs": [],
   "source": []
  },
  {
   "cell_type": "code",
   "execution_count": null,
   "metadata": {},
   "outputs": [],
   "source": []
  },
  {
   "cell_type": "markdown",
   "metadata": {},
   "source": [
    "#### Ejercicio \n",
    "\n",
    "Dada una lista de listas donde cada lista contiene dos elementos, el primero es el nombre del mercado, el segundo representa el saldo en USD, se solicita crear un dataframe con dicha informacion donde las columnas deben llevar el titulo de Mercado y Saldo la otra.\n",
    "\n",
    "data = [[\"NYSE\",1300],[\"BME\",2000],[\"BMV\",3000],[\"BYMA\",2340], [\"BVC\", 4000]]"
   ]
  },
  {
   "cell_type": "code",
   "execution_count": 2,
   "metadata": {},
   "outputs": [
    {
     "data": {
      "text/html": [
       "<div>\n",
       "<style scoped>\n",
       "    .dataframe tbody tr th:only-of-type {\n",
       "        vertical-align: middle;\n",
       "    }\n",
       "\n",
       "    .dataframe tbody tr th {\n",
       "        vertical-align: top;\n",
       "    }\n",
       "\n",
       "    .dataframe thead th {\n",
       "        text-align: right;\n",
       "    }\n",
       "</style>\n",
       "<table border=\"1\" class=\"dataframe\">\n",
       "  <thead>\n",
       "    <tr style=\"text-align: right;\">\n",
       "      <th></th>\n",
       "      <th>Mercado</th>\n",
       "      <th>Saldo</th>\n",
       "    </tr>\n",
       "  </thead>\n",
       "  <tbody>\n",
       "    <tr>\n",
       "      <td>0</td>\n",
       "      <td>NYSE</td>\n",
       "      <td>1300</td>\n",
       "    </tr>\n",
       "    <tr>\n",
       "      <td>1</td>\n",
       "      <td>BME</td>\n",
       "      <td>2000</td>\n",
       "    </tr>\n",
       "    <tr>\n",
       "      <td>2</td>\n",
       "      <td>BMV</td>\n",
       "      <td>3000</td>\n",
       "    </tr>\n",
       "    <tr>\n",
       "      <td>3</td>\n",
       "      <td>BYMA</td>\n",
       "      <td>2340</td>\n",
       "    </tr>\n",
       "    <tr>\n",
       "      <td>4</td>\n",
       "      <td>BVC</td>\n",
       "      <td>4000</td>\n",
       "    </tr>\n",
       "  </tbody>\n",
       "</table>\n",
       "</div>"
      ],
      "text/plain": [
       "  Mercado  Saldo\n",
       "0    NYSE   1300\n",
       "1     BME   2000\n",
       "2     BMV   3000\n",
       "3    BYMA   2340\n",
       "4     BVC   4000"
      ]
     },
     "execution_count": 2,
     "metadata": {},
     "output_type": "execute_result"
    }
   ],
   "source": [
    "import pandas\n",
    "data = [[\"NYSE\",1300],[\"BME\",2000],[\"BMV\",3000],[\"BYMA\",2340], [\"BVC\", 4000]]\n",
    "\n",
    "mercado=pandas.DataFrame(data,columns=[\"Mercado\",\"Saldo\"])\n",
    "mercado"
   ]
  },
  {
   "cell_type": "code",
   "execution_count": null,
   "metadata": {},
   "outputs": [],
   "source": []
  },
  {
   "cell_type": "code",
   "execution_count": null,
   "metadata": {},
   "outputs": [],
   "source": []
  },
  {
   "cell_type": "code",
   "execution_count": null,
   "metadata": {},
   "outputs": [],
   "source": []
  },
  {
   "cell_type": "code",
   "execution_count": null,
   "metadata": {},
   "outputs": [],
   "source": []
  },
  {
   "cell_type": "code",
   "execution_count": null,
   "metadata": {},
   "outputs": [],
   "source": []
  },
  {
   "cell_type": "markdown",
   "metadata": {},
   "source": [
    "#### Ejercicio\n",
    "\n",
    "Dado un diccionario con algunos indices y sus respectivas cotizaciones a la fecha se solicita pasarlo a un dataframe\n",
    "\n",
    "data = {'Indices':['DowJones', 'IBEX35', 'IndiceEuro', 'DAX'], 'Cotizaciones':[26428,6877.40,103.95,2313.36]}"
   ]
  },
  {
   "cell_type": "code",
   "execution_count": 4,
   "metadata": {},
   "outputs": [
    {
     "data": {
      "text/html": [
       "<div>\n",
       "<style scoped>\n",
       "    .dataframe tbody tr th:only-of-type {\n",
       "        vertical-align: middle;\n",
       "    }\n",
       "\n",
       "    .dataframe tbody tr th {\n",
       "        vertical-align: top;\n",
       "    }\n",
       "\n",
       "    .dataframe thead th {\n",
       "        text-align: right;\n",
       "    }\n",
       "</style>\n",
       "<table border=\"1\" class=\"dataframe\">\n",
       "  <thead>\n",
       "    <tr style=\"text-align: right;\">\n",
       "      <th></th>\n",
       "      <th>Indices</th>\n",
       "      <th>Cotizaciones</th>\n",
       "    </tr>\n",
       "  </thead>\n",
       "  <tbody>\n",
       "    <tr>\n",
       "      <td>0</td>\n",
       "      <td>DowJones</td>\n",
       "      <td>26428.00</td>\n",
       "    </tr>\n",
       "    <tr>\n",
       "      <td>1</td>\n",
       "      <td>IBEX35</td>\n",
       "      <td>6877.40</td>\n",
       "    </tr>\n",
       "    <tr>\n",
       "      <td>2</td>\n",
       "      <td>IndiceEuro</td>\n",
       "      <td>103.95</td>\n",
       "    </tr>\n",
       "    <tr>\n",
       "      <td>3</td>\n",
       "      <td>DAX</td>\n",
       "      <td>2313.36</td>\n",
       "    </tr>\n",
       "  </tbody>\n",
       "</table>\n",
       "</div>"
      ],
      "text/plain": [
       "      Indices  Cotizaciones\n",
       "0    DowJones      26428.00\n",
       "1      IBEX35       6877.40\n",
       "2  IndiceEuro        103.95\n",
       "3         DAX       2313.36"
      ]
     },
     "execution_count": 4,
     "metadata": {},
     "output_type": "execute_result"
    }
   ],
   "source": [
    "import pandas\n",
    "data = {'Indices':['DowJones', 'IBEX35', 'IndiceEuro', 'DAX'], 'Cotizaciones':[26428,6877.40,103.95,2313.36]}\n",
    "\n",
    "mercado=pandas.DataFrame(data)\n",
    "mercado"
   ]
  },
  {
   "cell_type": "code",
   "execution_count": null,
   "metadata": {},
   "outputs": [],
   "source": []
  },
  {
   "cell_type": "code",
   "execution_count": null,
   "metadata": {},
   "outputs": [],
   "source": []
  },
  {
   "cell_type": "code",
   "execution_count": null,
   "metadata": {},
   "outputs": [],
   "source": []
  },
  {
   "cell_type": "code",
   "execution_count": null,
   "metadata": {},
   "outputs": [],
   "source": []
  },
  {
   "cell_type": "markdown",
   "metadata": {},
   "source": [
    "#### Ejercicio\n",
    "Se requiere descargar el excel con cotizaciones de la empresa YPF e importarlo en el entorno de jupyter notebook, el mismo se encuentra en https://drive.google.com/file/d/1yAlN1_6mzP7yb-S51n0xXxqx3it_0bo1/view?usp=sharing\n",
    "El mismo luego se deberan mostrar las columnas 'timestamp', 'volume', 'high'\n",
    "\n",
    "\n"
   ]
  },
  {
   "cell_type": "code",
   "execution_count": 2,
   "metadata": {},
   "outputs": [
    {
     "data": {
      "text/html": [
       "<div>\n",
       "<style scoped>\n",
       "    .dataframe tbody tr th:only-of-type {\n",
       "        vertical-align: middle;\n",
       "    }\n",
       "\n",
       "    .dataframe tbody tr th {\n",
       "        vertical-align: top;\n",
       "    }\n",
       "\n",
       "    .dataframe thead th {\n",
       "        text-align: right;\n",
       "    }\n",
       "</style>\n",
       "<table border=\"1\" class=\"dataframe\">\n",
       "  <thead>\n",
       "    <tr style=\"text-align: right;\">\n",
       "      <th></th>\n",
       "      <th>timestamp</th>\n",
       "      <th>high</th>\n",
       "      <th>volume</th>\n",
       "    </tr>\n",
       "  </thead>\n",
       "  <tbody>\n",
       "    <tr>\n",
       "      <td>0</td>\n",
       "      <td>2020-04-03</td>\n",
       "      <td>4.60</td>\n",
       "      <td>1236928</td>\n",
       "    </tr>\n",
       "    <tr>\n",
       "      <td>1</td>\n",
       "      <td>2020-04-02</td>\n",
       "      <td>4.52</td>\n",
       "      <td>2504579</td>\n",
       "    </tr>\n",
       "    <tr>\n",
       "      <td>2</td>\n",
       "      <td>2020-04-01</td>\n",
       "      <td>4.16</td>\n",
       "      <td>1298840</td>\n",
       "    </tr>\n",
       "    <tr>\n",
       "      <td>3</td>\n",
       "      <td>2020-03-31</td>\n",
       "      <td>4.40</td>\n",
       "      <td>1419680</td>\n",
       "    </tr>\n",
       "    <tr>\n",
       "      <td>4</td>\n",
       "      <td>2020-03-30</td>\n",
       "      <td>4.10</td>\n",
       "      <td>1407649</td>\n",
       "    </tr>\n",
       "    <tr>\n",
       "      <td>...</td>\n",
       "      <td>...</td>\n",
       "      <td>...</td>\n",
       "      <td>...</td>\n",
       "    </tr>\n",
       "    <tr>\n",
       "      <td>5028</td>\n",
       "      <td>2000-04-07</td>\n",
       "      <td>35.00</td>\n",
       "      <td>9400</td>\n",
       "    </tr>\n",
       "    <tr>\n",
       "      <td>5029</td>\n",
       "      <td>2000-04-06</td>\n",
       "      <td>35.13</td>\n",
       "      <td>31200</td>\n",
       "    </tr>\n",
       "    <tr>\n",
       "      <td>5030</td>\n",
       "      <td>2000-04-05</td>\n",
       "      <td>34.75</td>\n",
       "      <td>8000</td>\n",
       "    </tr>\n",
       "    <tr>\n",
       "      <td>5031</td>\n",
       "      <td>2000-04-04</td>\n",
       "      <td>35.25</td>\n",
       "      <td>25700</td>\n",
       "    </tr>\n",
       "    <tr>\n",
       "      <td>5032</td>\n",
       "      <td>2000-04-03</td>\n",
       "      <td>35.44</td>\n",
       "      <td>17800</td>\n",
       "    </tr>\n",
       "  </tbody>\n",
       "</table>\n",
       "<p>5033 rows × 3 columns</p>\n",
       "</div>"
      ],
      "text/plain": [
       "      timestamp   high   volume\n",
       "0    2020-04-03   4.60  1236928\n",
       "1    2020-04-02   4.52  2504579\n",
       "2    2020-04-01   4.16  1298840\n",
       "3    2020-03-31   4.40  1419680\n",
       "4    2020-03-30   4.10  1407649\n",
       "...         ...    ...      ...\n",
       "5028 2000-04-07  35.00     9400\n",
       "5029 2000-04-06  35.13    31200\n",
       "5030 2000-04-05  34.75     8000\n",
       "5031 2000-04-04  35.25    25700\n",
       "5032 2000-04-03  35.44    17800\n",
       "\n",
       "[5033 rows x 3 columns]"
      ]
     },
     "execution_count": 2,
     "metadata": {},
     "output_type": "execute_result"
    }
   ],
   "source": [
    "import pandas\n",
    "\n",
    "columnas=[\"timestamp\",\"volume\",\"high\"]\n",
    "\n",
    "data=pandas.read_excel(\"YPF.xlsx\",usecols=columnas)\n",
    "data"
   ]
  },
  {
   "cell_type": "code",
   "execution_count": null,
   "metadata": {},
   "outputs": [],
   "source": []
  },
  {
   "cell_type": "code",
   "execution_count": null,
   "metadata": {},
   "outputs": [],
   "source": []
  },
  {
   "cell_type": "code",
   "execution_count": null,
   "metadata": {},
   "outputs": [],
   "source": []
  },
  {
   "cell_type": "code",
   "execution_count": null,
   "metadata": {},
   "outputs": [],
   "source": []
  },
  {
   "cell_type": "code",
   "execution_count": null,
   "metadata": {},
   "outputs": [],
   "source": []
  },
  {
   "cell_type": "markdown",
   "metadata": {},
   "source": [
    "#### Ejercicio \n",
    "Se requiere concatenar dos cotizaciones historicas por medio del adj close de dos tickers cualquiera, el \"join\" debe tener outer y el axis 1 "
   ]
  },
  {
   "cell_type": "code",
   "execution_count": 6,
   "metadata": {},
   "outputs": [
    {
     "name": "stdout",
     "output_type": "stream",
     "text": [
      "[*********************100%***********************]  1 of 1 completed\n",
      "[*********************100%***********************]  1 of 1 completed\n"
     ]
    },
    {
     "data": {
      "text/html": [
       "<div>\n",
       "<style scoped>\n",
       "    .dataframe tbody tr th:only-of-type {\n",
       "        vertical-align: middle;\n",
       "    }\n",
       "\n",
       "    .dataframe tbody tr th {\n",
       "        vertical-align: top;\n",
       "    }\n",
       "\n",
       "    .dataframe thead th {\n",
       "        text-align: right;\n",
       "    }\n",
       "</style>\n",
       "<table border=\"1\" class=\"dataframe\">\n",
       "  <thead>\n",
       "    <tr style=\"text-align: right;\">\n",
       "      <th></th>\n",
       "      <th>Adidas</th>\n",
       "      <th>Bayer</th>\n",
       "    </tr>\n",
       "    <tr>\n",
       "      <th>Date</th>\n",
       "      <th></th>\n",
       "      <th></th>\n",
       "    </tr>\n",
       "  </thead>\n",
       "  <tbody>\n",
       "    <tr>\n",
       "      <td>2001-06-15</td>\n",
       "      <td>12.157196</td>\n",
       "      <td>6.700000</td>\n",
       "    </tr>\n",
       "    <tr>\n",
       "      <td>2001-06-18</td>\n",
       "      <td>12.393532</td>\n",
       "      <td>6.600000</td>\n",
       "    </tr>\n",
       "    <tr>\n",
       "      <td>2001-06-19</td>\n",
       "      <td>12.809486</td>\n",
       "      <td>6.700000</td>\n",
       "    </tr>\n",
       "    <tr>\n",
       "      <td>2001-06-20</td>\n",
       "      <td>12.809486</td>\n",
       "      <td>6.600000</td>\n",
       "    </tr>\n",
       "    <tr>\n",
       "      <td>2001-06-21</td>\n",
       "      <td>13.121452</td>\n",
       "      <td>6.600000</td>\n",
       "    </tr>\n",
       "    <tr>\n",
       "      <td>...</td>\n",
       "      <td>...</td>\n",
       "      <td>...</td>\n",
       "    </tr>\n",
       "    <tr>\n",
       "      <td>2018-06-22</td>\n",
       "      <td>227.401367</td>\n",
       "      <td>96.769997</td>\n",
       "    </tr>\n",
       "    <tr>\n",
       "      <td>2018-06-25</td>\n",
       "      <td>225.594620</td>\n",
       "      <td>96.730003</td>\n",
       "    </tr>\n",
       "    <tr>\n",
       "      <td>2018-06-26</td>\n",
       "      <td>223.057480</td>\n",
       "      <td>96.730003</td>\n",
       "    </tr>\n",
       "    <tr>\n",
       "      <td>2018-06-27</td>\n",
       "      <td>220.895142</td>\n",
       "      <td>96.730003</td>\n",
       "    </tr>\n",
       "    <tr>\n",
       "      <td>2018-06-28</td>\n",
       "      <td>226.382660</td>\n",
       "      <td>94.000000</td>\n",
       "    </tr>\n",
       "  </tbody>\n",
       "</table>\n",
       "<p>3775 rows × 2 columns</p>\n",
       "</div>"
      ],
      "text/plain": [
       "                Adidas      Bayer\n",
       "Date                             \n",
       "2001-06-15   12.157196   6.700000\n",
       "2001-06-18   12.393532   6.600000\n",
       "2001-06-19   12.809486   6.700000\n",
       "2001-06-20   12.809486   6.600000\n",
       "2001-06-21   13.121452   6.600000\n",
       "...                ...        ...\n",
       "2018-06-22  227.401367  96.769997\n",
       "2018-06-25  225.594620  96.730003\n",
       "2018-06-26  223.057480  96.730003\n",
       "2018-06-27  220.895142  96.730003\n",
       "2018-06-28  226.382660  94.000000\n",
       "\n",
       "[3775 rows x 2 columns]"
      ]
     },
     "execution_count": 6,
     "metadata": {},
     "output_type": "execute_result"
    }
   ],
   "source": [
    "import yfinance\n",
    "import pandas\n",
    "\n",
    "data_ads=yfinance.download(\"ADS\",)[\"Adj Close\"]\n",
    "data_bay=yfinance.download(\"BAY\")[\"Adj Close\"]\n",
    "\n",
    "data_concatenada=pandas.concat([data_ads,data_bay],join=\"outer\",axis=1)#outer=union axis=1 es columnas\n",
    "data_concatenada.columns=[\"Adidas\",\"Bayer\"]\n",
    "data_concatenada.dropna(inplace=True)\n",
    "data_concatenada"
   ]
  },
  {
   "cell_type": "code",
   "execution_count": null,
   "metadata": {},
   "outputs": [],
   "source": []
  },
  {
   "cell_type": "code",
   "execution_count": null,
   "metadata": {},
   "outputs": [],
   "source": []
  },
  {
   "cell_type": "code",
   "execution_count": null,
   "metadata": {},
   "outputs": [],
   "source": []
  },
  {
   "cell_type": "code",
   "execution_count": null,
   "metadata": {},
   "outputs": [],
   "source": []
  },
  {
   "cell_type": "markdown",
   "metadata": {},
   "source": [
    "#### Ejercicio \n",
    "\n",
    "    - Se requiere descargar la informacion de un activo X y obtener la suma de 21, 42 y 200 ponerla en el dataframe\n",
    "    - calcular las bandas de Bollinger para dicho activo\n",
    "    - Agregar una columna mas que indique true cuando la suma de 21 sea mayor a la de 42 y a la de 200, false en los otros casos."
   ]
  },
  {
   "cell_type": "code",
   "execution_count": null,
   "metadata": {},
   "outputs": [],
   "source": []
  },
  {
   "cell_type": "code",
   "execution_count": null,
   "metadata": {},
   "outputs": [],
   "source": []
  },
  {
   "cell_type": "code",
   "execution_count": null,
   "metadata": {},
   "outputs": [],
   "source": []
  },
  {
   "cell_type": "code",
   "execution_count": null,
   "metadata": {},
   "outputs": [],
   "source": []
  },
  {
   "cell_type": "code",
   "execution_count": null,
   "metadata": {},
   "outputs": [],
   "source": []
  },
  {
   "cell_type": "code",
   "execution_count": null,
   "metadata": {},
   "outputs": [],
   "source": []
  },
  {
   "cell_type": "markdown",
   "metadata": {},
   "source": [
    "#### Ejercicio \n",
    "Calculando el dolar CCL, descargar el ultimo mes de cotizacion de GGAL y GGAL.BA y calcula el valor del dolar contado con liquidación, utilizar la columna close para calcularlo, concatenar ambos resultados y agregar dicho valor como una columna extra con el valor del calculo.\n",
    "La cuenta es GGAL.BA / (GGAL * 10)"
   ]
  },
  {
   "cell_type": "code",
   "execution_count": 11,
   "metadata": {},
   "outputs": [
    {
     "name": "stdout",
     "output_type": "stream",
     "text": [
      "[*********************100%***********************]  1 of 1 completed\n",
      "[*********************100%***********************]  1 of 1 completed\n"
     ]
    },
    {
     "data": {
      "text/html": [
       "<div>\n",
       "<style scoped>\n",
       "    .dataframe tbody tr th:only-of-type {\n",
       "        vertical-align: middle;\n",
       "    }\n",
       "\n",
       "    .dataframe tbody tr th {\n",
       "        vertical-align: top;\n",
       "    }\n",
       "\n",
       "    .dataframe thead th {\n",
       "        text-align: right;\n",
       "    }\n",
       "</style>\n",
       "<table border=\"1\" class=\"dataframe\">\n",
       "  <thead>\n",
       "    <tr style=\"text-align: right;\">\n",
       "      <th></th>\n",
       "      <th>GGAL</th>\n",
       "      <th>GGAL.BA</th>\n",
       "      <th>CCL</th>\n",
       "    </tr>\n",
       "    <tr>\n",
       "      <th>Date</th>\n",
       "      <th></th>\n",
       "      <th></th>\n",
       "      <th></th>\n",
       "    </tr>\n",
       "  </thead>\n",
       "  <tbody>\n",
       "    <tr>\n",
       "      <td>2000-07-26</td>\n",
       "      <td>17.5000</td>\n",
       "      <td>1.730000</td>\n",
       "      <td>0.988571</td>\n",
       "    </tr>\n",
       "    <tr>\n",
       "      <td>2000-07-27</td>\n",
       "      <td>17.5000</td>\n",
       "      <td>1.750000</td>\n",
       "      <td>1.000000</td>\n",
       "    </tr>\n",
       "    <tr>\n",
       "      <td>2000-07-28</td>\n",
       "      <td>17.3750</td>\n",
       "      <td>1.720000</td>\n",
       "      <td>0.989928</td>\n",
       "    </tr>\n",
       "    <tr>\n",
       "      <td>2000-07-31</td>\n",
       "      <td>17.6875</td>\n",
       "      <td>1.750000</td>\n",
       "      <td>0.989399</td>\n",
       "    </tr>\n",
       "    <tr>\n",
       "      <td>2000-08-01</td>\n",
       "      <td>17.5000</td>\n",
       "      <td>1.760000</td>\n",
       "      <td>1.005714</td>\n",
       "    </tr>\n",
       "    <tr>\n",
       "      <td>...</td>\n",
       "      <td>...</td>\n",
       "      <td>...</td>\n",
       "      <td>...</td>\n",
       "    </tr>\n",
       "    <tr>\n",
       "      <td>2020-08-10</td>\n",
       "      <td>12.4400</td>\n",
       "      <td>158.949997</td>\n",
       "      <td>127.773314</td>\n",
       "    </tr>\n",
       "    <tr>\n",
       "      <td>2020-08-11</td>\n",
       "      <td>11.8600</td>\n",
       "      <td>154.750000</td>\n",
       "      <td>130.480611</td>\n",
       "    </tr>\n",
       "    <tr>\n",
       "      <td>2020-08-12</td>\n",
       "      <td>11.4600</td>\n",
       "      <td>149.350006</td>\n",
       "      <td>130.322867</td>\n",
       "    </tr>\n",
       "    <tr>\n",
       "      <td>2020-08-13</td>\n",
       "      <td>11.5300</td>\n",
       "      <td>149.949997</td>\n",
       "      <td>130.052039</td>\n",
       "    </tr>\n",
       "    <tr>\n",
       "      <td>2020-08-14</td>\n",
       "      <td>11.3700</td>\n",
       "      <td>145.000000</td>\n",
       "      <td>127.528585</td>\n",
       "    </tr>\n",
       "  </tbody>\n",
       "</table>\n",
       "<p>4844 rows × 3 columns</p>\n",
       "</div>"
      ],
      "text/plain": [
       "               GGAL     GGAL.BA         CCL\n",
       "Date                                       \n",
       "2000-07-26  17.5000    1.730000    0.988571\n",
       "2000-07-27  17.5000    1.750000    1.000000\n",
       "2000-07-28  17.3750    1.720000    0.989928\n",
       "2000-07-31  17.6875    1.750000    0.989399\n",
       "2000-08-01  17.5000    1.760000    1.005714\n",
       "...             ...         ...         ...\n",
       "2020-08-10  12.4400  158.949997  127.773314\n",
       "2020-08-11  11.8600  154.750000  130.480611\n",
       "2020-08-12  11.4600  149.350006  130.322867\n",
       "2020-08-13  11.5300  149.949997  130.052039\n",
       "2020-08-14  11.3700  145.000000  127.528585\n",
       "\n",
       "[4844 rows x 3 columns]"
      ]
     },
     "execution_count": 11,
     "metadata": {},
     "output_type": "execute_result"
    }
   ],
   "source": [
    "import yfinance\n",
    "import pandas\n",
    "\n",
    "ggal=yfinance.download(\"GGAL\")[\"Close\"]\n",
    "ggal_ba=yfinance.download(\"GGAL.BA\")[\"Close\"]\n",
    "\n",
    "data=pandas.concat([ggal,ggal_ba],join=\"inner\",axis=1)\n",
    "data.columns=[\"GGAL\",\"GGAL.BA\"]\n",
    "data[\"CCL\"]=(ggal_ba/ggal)*10\n",
    "data"
   ]
  },
  {
   "cell_type": "code",
   "execution_count": null,
   "metadata": {},
   "outputs": [],
   "source": []
  },
  {
   "cell_type": "code",
   "execution_count": null,
   "metadata": {},
   "outputs": [],
   "source": []
  }
 ],
 "metadata": {
  "kernelspec": {
   "display_name": "Python 3",
   "language": "python",
   "name": "python3"
  },
  "language_info": {
   "codemirror_mode": {
    "name": "ipython",
    "version": 3
   },
   "file_extension": ".py",
   "mimetype": "text/x-python",
   "name": "python",
   "nbconvert_exporter": "python",
   "pygments_lexer": "ipython3",
   "version": "3.7.4"
  }
 },
 "nbformat": 4,
 "nbformat_minor": 2
}
